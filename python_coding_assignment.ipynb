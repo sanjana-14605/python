{
 "cells": [
  {
   "cell_type": "code",
   "execution_count": null,
   "id": "f36b120d-5e03-4d13-89d0-b5b8159ce1ce",
   "metadata": {},
   "outputs": [],
   "source": [
    "# project title: Fundamentals Of Python Programming Assignment\n",
    "##introducton: In this project we are going code some programs on Python Operators , Control Structures, Lists , Dictionaries and some Advanced Topics"
   ]
  },
  {
   "cell_type": "markdown",
   "id": "ba6ca27d-a36e-43f6-885d-de7d5c5470d9",
   "metadata": {},
   "source": [
    "section1:Python Operators and Control Structures\n",
    "1.Question:Write a Python programs to calculate the sum of all numbers in a list uding a for loop\n",
    "sample input : numbers = [1,2,3,4,5]\n",
    "sample ouput : 15"
   ]
  },
  {
   "cell_type": "code",
   "execution_count": 1,
   "id": "e566eabb-9c66-4906-9235-0d21e1be3b8c",
   "metadata": {},
   "outputs": [
    {
     "name": "stdout",
     "output_type": "stream",
     "text": [
      "Sum of all numbers: 15\n"
     ]
    }
   ],
   "source": [
    "# Python program to calculate the sum of all numbers in a list\n",
    "\n",
    "# Sample input list\n",
    "numbers = [1, 2, 3, 4, 5]\n",
    "\n",
    "# Initialize the sum variable\n",
    "total_sum = 0\n",
    "\n",
    "# Loop through the list and add each number to the sum\n",
    "for number in numbers:\n",
    "    total_sum += number\n",
    "\n",
    "# Print the result\n",
    "print(\"Sum of all numbers:\", total_sum)\n"
   ]
  },
  {
   "cell_type": "markdown",
   "id": "04887ed5-7a73-4b38-82fd-00a03544abdc",
   "metadata": {},
   "source": [
    "2. Question: What is the output of the following code?\n",
    "Code:\n",
    "x = 5\n",
    "y = 2\n",
    "print(x ** y)\n",
    "Sample Output: 25"
   ]
  },
  {
   "cell_type": "code",
   "execution_count": 2,
   "id": "0ab9dd18-cf8e-476c-9cee-b925f891ca6c",
   "metadata": {},
   "outputs": [
    {
     "name": "stdout",
     "output_type": "stream",
     "text": [
      "25\n"
     ]
    }
   ],
   "source": [
    "x = 5\n",
    "y = 2\n",
    "print(x ** y)"
   ]
  },
  {
   "cell_type": "markdown",
   "id": "ec8f5d75-1f55-4d58-b5de-f84bc3416c3b",
   "metadata": {},
   "source": [
    "3.Question: Write a Python program to check if a number is a palindrome using a while loop.\n",
    "Sample Input: num = 12321\n",
    "Sample Output: True"
   ]
  },
  {
   "cell_type": "code",
   "execution_count": 3,
   "id": "0c795b26-1d07-4c50-bdd1-d7a5a4f3cc48",
   "metadata": {},
   "outputs": [
    {
     "name": "stdout",
     "output_type": "stream",
     "text": [
      "True\n"
     ]
    }
   ],
   "source": [
    "# Python program to check if a number is a palindrome\n",
    "\n",
    "def is_palindrome(num):\n",
    "    original_num = num  # Store the original number\n",
    "    reverse_num = 0\n",
    "    \n",
    "    # Reverse the number using a while loop\n",
    "    while num > 0:\n",
    "        digit = num % 10  # Get the last digit\n",
    "        reverse_num = reverse_num * 10 + digit  # Build the reversed number\n",
    "        num = num // 10  # Remove the last digit\n",
    "    \n",
    "    # Return True if the original number is equal to the reversed number\n",
    "    return original_num == reverse_num\n",
    "\n",
    "# Sample Input\n",
    "num = 12321\n",
    "\n",
    "# Check if the number is a palindrome\n",
    "result = is_palindrome(num)\n",
    "print(result)\n"
   ]
  },
  {
   "cell_type": "markdown",
   "id": "d9764263-45b5-47a2-ae8a-d99496a643e1",
   "metadata": {},
   "source": [
    "4.Question: What is the output of the following code?\n",
    "Code:\n",
    "fruits = ['apple', 'banana', 'cherry']\n",
    "print(fruits[-1])\n",
    "Sample Output: cherry"
   ]
  },
  {
   "cell_type": "code",
   "execution_count": 4,
   "id": "a850edd7-3d26-489e-9ead-bfd3c9be8205",
   "metadata": {},
   "outputs": [
    {
     "name": "stdout",
     "output_type": "stream",
     "text": [
      "cherry\n"
     ]
    }
   ],
   "source": [
    "fruits = ['apple', 'banana', 'cherry']\n",
    "print(fruits[-1])\n"
   ]
  },
  {
   "cell_type": "markdown",
   "id": "53d224d5-c60d-47f5-bf08-882e84b199dc",
   "metadata": {},
   "source": [
    "5.Question: Write a Python program to calculate the average of all numbers in a list using a for loop.\n",
    "Sample Input: numbers = [1, 2, 3, 4, 5]\n",
    "Sample Output: 3.0"
   ]
  },
  {
   "cell_type": "code",
   "execution_count": 5,
   "id": "d200acc2-d82d-4bc3-93ee-6282fc5c83a0",
   "metadata": {},
   "outputs": [
    {
     "name": "stdout",
     "output_type": "stream",
     "text": [
      "The average is: 7.0\n"
     ]
    }
   ],
   "source": [
    "# Python program to calculate the average of all numbers in a list\n",
    "\n",
    "def calculate_average(numbers):\n",
    "    total_sum = 0\n",
    "    count = 0\n",
    "    \n",
    "    # Loop through the list to calculate the sum\n",
    "    for number in numbers:\n",
    "        total_sum += number\n",
    "        count += 1\n",
    "    \n",
    "    # Calculate the average\n",
    "    if count != 0:\n",
    "        average = total_sum / count\n",
    "        return average\n",
    "    else:\n",
    "        return 0  # Avoid division by zero if the list is empty\n",
    "\n",
    "# Sample Input\n",
    "numbers = [5, 6, 7, 8, 9]\n",
    "\n",
    "# Calculate and print the average\n",
    "average = calculate_average(numbers)\n",
    "print(\"The average is:\", average)\n"
   ]
  },
  {
   "cell_type": "markdown",
   "id": "7eda4c84-2a7c-414a-a3d0-c7ecc7eaa632",
   "metadata": {},
   "source": [
    "section2: List and Dictionaries\n",
    "6.Question: Write a Python program to create a dictionary with student names as keys and their grades as values.\n",
    "Sample Input: students = ['John', 'Alice', 'Bob'], grades = [90, 85, 95]\n",
    "Sample Output: {'John': 90, 'Alice': 85, 'Bob': 95}"
   ]
  },
  {
   "cell_type": "code",
   "execution_count": 6,
   "id": "d94718ce-399b-4138-9f91-dc960ccf9cef",
   "metadata": {},
   "outputs": [
    {
     "name": "stdout",
     "output_type": "stream",
     "text": [
      "{'sai': 90, 'joy': 88, 'raj': 96}\n"
     ]
    }
   ],
   "source": [
    "# Python program to create a dictionary with student names and their grades\n",
    "\n",
    "# Sample Input\n",
    "students = ['sai', 'joy', 'raj']\n",
    "grades = [90, 88, 96]\n",
    "\n",
    "# Creating the dictionary using a loop\n",
    "student_grades = {}\n",
    "for i in range(len(students)):\n",
    "    student_grades[students[i]] = grades[i]\n",
    "\n",
    "# Output the dictionary\n",
    "print(student_grades)\n"
   ]
  },
  {
   "cell_type": "markdown",
   "id": "ac1f8316-b03d-406c-8dae-3a312dcf1408",
   "metadata": {},
   "source": [
    "7.Question: What is the output of the following code?\n",
    "code:\n",
    "numbers = [1,2,3,4,5]\n",
    "print(numbers[2,3]"
   ]
  },
  {
   "cell_type": "code",
   "execution_count": 9,
   "id": "57fade9f-4744-4121-b70a-b56048c96005",
   "metadata": {},
   "outputs": [
    {
     "name": "stdout",
     "output_type": "stream",
     "text": [
      "[6, 7]\n"
     ]
    }
   ],
   "source": [
    "numbers = [5, 6, 7, 8, 9]\n",
    "print(numbers[1:3])"
   ]
  },
  {
   "cell_type": "markdown",
   "id": "b7df9cb1-4779-41b1-a985-4379957ce4f9",
   "metadata": {},
   "source": [
    "8. Question: Write a Python program to sort a list of numbers in ascending order using the sorted() function.\n",
    "Sample Input: numbers = [4, 2, 9, 6, 5]\n",
    "Sample Output: [2, 4, 5, 6, 9]"
   ]
  },
  {
   "cell_type": "code",
   "execution_count": 10,
   "id": "c7b98c25-27d0-4695-a31d-1863b3b7877e",
   "metadata": {},
   "outputs": [
    {
     "name": "stdout",
     "output_type": "stream",
     "text": [
      "Sorted list in ascending order: [1, 2, 5, 5, 6, 9]\n"
     ]
    }
   ],
   "source": [
    "# Define a list of numbers\n",
    "numbers = [5, 2, 9, 1, 5, 6]\n",
    "\n",
    "# Use the sorted() function to sort the list in ascending order\n",
    "sorted_numbers = sorted(numbers)\n",
    "\n",
    "# Print the sorted list\n",
    "print(\"Sorted list in ascending order:\", sorted_numbers)"
   ]
  },
  {
   "cell_type": "markdown",
   "id": "d1e52d9e-10bf-48e8-b47e-284a6dcc6284",
   "metadata": {},
   "source": [
    "9.Question: What is the output of the following code?\n",
    "Code:\n",
    "fruits = {'apple': 5, 'banana': 10, 'cherry': 15}\n",
    "print(fruits.get('banana'))\n",
    "Sample Output: 10"
   ]
  },
  {
   "cell_type": "code",
   "execution_count": 11,
   "id": "f4494606-30c9-470b-b259-3e577d5a26d0",
   "metadata": {},
   "outputs": [
    {
     "name": "stdout",
     "output_type": "stream",
     "text": [
      "10\n"
     ]
    }
   ],
   "source": [
    "fruits = {'apple': 5, 'banana': 10, 'cherry': 15}\n",
    "print(fruits.get('banana'))\n"
   ]
  },
  {
   "cell_type": "markdown",
   "id": "7108a972-4622-4fc1-9ad9-2f222514a183",
   "metadata": {},
   "source": [
    "10. Question: Write a Python program to create a list of squares of all numbers from 1 to 10 using a list comprehension.\n",
    "Sample Output: [1, 4, 9, 16, 25, 36, 49, 64, 81, 100]"
   ]
  },
  {
   "cell_type": "code",
   "execution_count": 12,
   "id": "23824438-3063-4a59-963a-328b1e2363aa",
   "metadata": {},
   "outputs": [
    {
     "name": "stdout",
     "output_type": "stream",
     "text": [
      "[1, 4, 9, 16, 25, 36, 49, 64, 81, 100]\n"
     ]
    }
   ],
   "source": [
    "# Using list comprehension to create a list of squares\n",
    "squares = [x**2 for x in range(1, 11)]\n",
    "\n",
    "# Printing the result\n",
    "print(squares)\n"
   ]
  },
  {
   "cell_type": "markdown",
   "id": "32abe23f-b8e2-43ca-9265-da019b2b26a0",
   "metadata": {},
   "source": [
    "Section3: Advanced Topics\n",
    "11 . Question: Write a Python program to calculate the factorial of a number using recursion.\n",
    "Sample Input: num = 5\n",
    "Sample Output: 120"
   ]
  },
  {
   "cell_type": "code",
   "execution_count": 16,
   "id": "21b310f7-04c1-4bb5-9a88-f7d1729dad8c",
   "metadata": {},
   "outputs": [
    {
     "name": "stdout",
     "output_type": "stream",
     "text": [
      "Factorial of 5 is 120\n"
     ]
    }
   ],
   "source": [
    "# Function to calculate factorial using recursion\n",
    "def factorial(num):\n",
    "    if num == 0 or num == 1:\n",
    "        return 1\n",
    "    else:\n",
    "        return num * factorial(num - 1)\n",
    "\n",
    "# Sample Input\n",
    "num = 5\n",
    "\n",
    "# Calculate and display the factorial\n",
    "result = factorial(num)\n",
    "print(f\"Factorial of {num} is {result}\")\n"
   ]
  },
  {
   "cell_type": "markdown",
   "id": "d771af47-9d1e-4315-aa0a-1d99d4e76314",
   "metadata": {},
   "source": [
    "12. Question: What is the output of the following code?\n",
    "Code:\n",
    "numbers = [1, 2, 3, 4, 5]\n",
    "print(list(reversed(numbers)))\n",
    "Sample Output: [5, 4, 3, 2, 1]"
   ]
  },
  {
   "cell_type": "code",
   "execution_count": 17,
   "id": "b894b5f0-86d2-4e8d-a636-195152c5ae1a",
   "metadata": {},
   "outputs": [
    {
     "name": "stdout",
     "output_type": "stream",
     "text": [
      "[9, 8, 7, 6, 5]\n"
     ]
    }
   ],
   "source": [
    "numbers = [5,6,7,8,9]\n",
    "print(list(reversed(numbers)))"
   ]
  },
  {
   "cell_type": "markdown",
   "id": "818f1e84-2f40-4491-9b38-cd0fdedd49f7",
   "metadata": {},
   "source": [
    "13. Question: Write a Python program to create a generator that yields the Fibonacci sequence up to the nth term.\n",
    "Sample Input: n = 10\n",
    "Sample Output: [0, 1, 1, 2, 3, 5, 8, 13, 21, 34]"
   ]
  },
  {
   "cell_type": "code",
   "execution_count": 23,
   "id": "ecc69087-d21f-4e6e-85b6-1b538d4b3f2e",
   "metadata": {},
   "outputs": [
    {
     "name": "stdin",
     "output_type": "stream",
     "text": [
      "Enter the number of terms:  5\n"
     ]
    },
    {
     "name": "stdout",
     "output_type": "stream",
     "text": [
      "[0, 1, 1, 2, 3]\n"
     ]
    }
   ],
   "source": [
    "def fibonacci(n):\n",
    "    fib_sequence = [0, 1]\n",
    "    for i in range(2, n):\n",
    "        fib_sequence.append(fib_sequence[-1] + fib_sequence[-2])\n",
    "    return fib_sequence[:n]\n",
    "\n",
    "# Example usage\n",
    "num_terms = int(input(\"Enter the number of terms: \"))\n",
    "print(fibonacci(num_terms))"
   ]
  },
  {
   "cell_type": "markdown",
   "id": "cce396fa-a9b6-43f5-9b88-ffa7fab61cc5",
   "metadata": {},
   "source": [
    "14. Question: What is the output of the following code?\n",
    "Code:\n",
    "import math\n",
    "print(math.pi)\n",
    "Sample Output: 3.14159..."
   ]
  },
  {
   "cell_type": "code",
   "execution_count": 24,
   "id": "89152c73-42b5-4008-88bc-6942ef8b9e62",
   "metadata": {},
   "outputs": [
    {
     "name": "stdout",
     "output_type": "stream",
     "text": [
      "3.141592653589793\n"
     ]
    }
   ],
   "source": [
    "# Import the math module\n",
    "import math\n",
    "\n",
    "# Print the value of Pi (π)\n",
    "print(math.pi)"
   ]
  },
  {
   "cell_type": "markdown",
   "id": "88a2ccc4-64ea-47fc-aefd-dc22eb8aa959",
   "metadata": {},
   "source": [
    "15. Question: Write a Python program to print the inverted star pyramid of height 5."
   ]
  },
  {
   "cell_type": "code",
   "execution_count": 25,
   "id": "f374fe68-c554-4e31-9fb6-560dd72b370f",
   "metadata": {},
   "outputs": [
    {
     "name": "stdout",
     "output_type": "stream",
     "text": [
      "*********\n",
      " *******\n",
      "  *****\n",
      "   ***\n",
      "    *\n"
     ]
    }
   ],
   "source": [
    "# Define the height of the pyramid\n",
    "height = 5\n",
    "\n",
    "# Loop to print each row of the inverted pyramid\n",
    "for i in range(height, 0, -1):\n",
    "    # Print leading spaces\n",
    "    print(\" \" * (height - i), end=\"\")\n",
    "    \n",
    "    # Print stars for the current row\n",
    "    print(\"*\" * (2 * i - 1))"
   ]
  },
  {
   "cell_type": "code",
   "execution_count": null,
   "id": "84546086-571e-4a55-8e79-d730d52522e8",
   "metadata": {},
   "outputs": [],
   "source": []
  }
 ],
 "metadata": {
  "kernelspec": {
   "display_name": "Python 3 (ipykernel)",
   "language": "python",
   "name": "python3"
  },
  "language_info": {
   "codemirror_mode": {
    "name": "ipython",
    "version": 3
   },
   "file_extension": ".py",
   "mimetype": "text/x-python",
   "name": "python",
   "nbconvert_exporter": "python",
   "pygments_lexer": "ipython3",
   "version": "3.12.7"
  }
 },
 "nbformat": 4,
 "nbformat_minor": 5
}
